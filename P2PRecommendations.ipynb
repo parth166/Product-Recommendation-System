{
  "cells": [
    {
      "cell_type": "code",
      "execution_count": null,
      "metadata": {
        "colab": {
          "base_uri": "https://localhost:8080/"
        },
        "id": "1Xca5giWN2ZM",
        "outputId": "e6b54505-2a25-4a1f-e6a4-145d605c495f"
      },
      "outputs": [
        {
          "name": "stdout",
          "output_type": "stream",
          "text": [
            "Looking in indexes: https://pypi.org/simple, https://us-python.pkg.dev/colab-wheels/public/simple/\n",
            "Collecting pyspark==3.2.1\n",
            "  Downloading pyspark-3.2.1.tar.gz (281.4 MB)\n",
            "\u001b[K     |████████████████████████████████| 281.4 MB 27 kB/s \n",
            "\u001b[?25hCollecting py4j==0.10.9.3\n",
            "  Downloading py4j-0.10.9.3-py2.py3-none-any.whl (198 kB)\n",
            "\u001b[K     |████████████████████████████████| 198 kB 52.7 MB/s \n",
            "\u001b[?25hBuilding wheels for collected packages: pyspark\n",
            "  Building wheel for pyspark (setup.py) ... \u001b[?25l\u001b[?25hdone\n",
            "  Created wheel for pyspark: filename=pyspark-3.2.1-py2.py3-none-any.whl size=281853643 sha256=ebf9da5a62eb1dcd8fd4a7213c5a5763d6d62b340d1a2fd6d3f1f78c11e45832\n",
            "  Stored in directory: /root/.cache/pip/wheels/58/94/83/915c9059e4b038e2d43a6058f307fe1c3e8536e5745f3b23b7\n",
            "Successfully built pyspark\n",
            "Installing collected packages: py4j, pyspark\n",
            "Successfully installed py4j-0.10.9.3 pyspark-3.2.1\n"
          ]
        }
      ],
      "source": [
        "!apt-get install openjdk-8-jdk-headless -qq > /dev/null\n",
        "\n",
        "# #Install Apache Spark 3.2.1 with Hadoop 3.2, get zipped folder\n",
        "!wget -q https://dlcdn.apache.org/spark/spark-3.3.1/spark-3.3.1-bin-hadoop3.tgz    \n",
        "\n",
        "# #Unzip folder\n",
        "!tar xf spark-3.3.1-bin-hadoop3.tgz\n",
        "\n",
        "# #Install findspark, pyspark 3.2.1\n",
        "!pip install -q findspark\n",
        "!pip install pyspark==3.2.1\n",
        "\n",
        "# #Set variables\n",
        "import os\n",
        "os.environ[\"JAVA_HOME\"] = \"/usr/lib/jvm/java-8-openjdk-amd64\"\n",
        "os.environ[\"SPARK_HOME\"] = \"/content/spark-3.3.1-bin-hadoop3\""
      ]
    },
    {
      "cell_type": "code",
      "execution_count": null,
      "metadata": {
        "colab": {
          "base_uri": "https://localhost:8080/"
        },
        "id": "3fax7MnHOY6A",
        "outputId": "08f8a76d-279c-4f91-b288-de340f5e4223"
      },
      "outputs": [
        {
          "name": "stdout",
          "output_type": "stream",
          "text": [
            "Looking in indexes: https://pypi.org/simple, https://us-python.pkg.dev/colab-wheels/public/simple/\n",
            "Collecting elasticsearch==7.17.3\n",
            "  Downloading elasticsearch-7.17.3-py2.py3-none-any.whl (385 kB)\n",
            "\u001b[K     |████████████████████████████████| 385 kB 4.5 MB/s \n",
            "\u001b[?25hRequirement already satisfied: certifi in /usr/local/lib/python3.8/dist-packages (from elasticsearch==7.17.3) (2022.9.24)\n",
            "Requirement already satisfied: urllib3<2,>=1.21.1 in /usr/local/lib/python3.8/dist-packages (from elasticsearch==7.17.3) (1.24.3)\n",
            "Installing collected packages: elasticsearch\n",
            "Successfully installed elasticsearch-7.17.3\n"
          ]
        }
      ],
      "source": [
        "pip install elasticsearch==7.17.3"
      ]
    },
    {
      "cell_type": "code",
      "execution_count": null,
      "metadata": {
        "id": "A_IxaLK5NTP0"
      },
      "outputs": [],
      "source": [
        "import re\n",
        "import numpy as np\n",
        "import seaborn as sns\n",
        "import matplotlib.pyplot as plt\n",
        "%matplotlib inline\n",
        "import pyspark\n",
        "from IPython.display import Image, HTML, display\n",
        "import elasticsearch\n",
        "from elasticsearch import Elasticsearch\n",
        "import sys\n",
        "from pyspark import SparkContext, SparkConf\n",
        "from pyspark.sql.types import *\n",
        "from pyspark.sql.functions import col, mean, udf, lit, current_timestamp, unix_timestamp, array_contains\n",
        "from pyspark.ml.recommendation import ALS\n",
        "from pyspark.ml.tuning import ParamGridBuilder, CrossValidator\n",
        "from pyspark.ml.evaluation import RegressionEvaluator\n",
        "from pyspark.ml.recommendation import ALS\n",
        "from pyspark.ml.tuning import ParamGridBuilder, CrossValidator\n",
        "from pyspark.ml.evaluation import RegressionEvaluator\n",
        "\n",
        "schemaMetaData = StructType([\n",
        "    StructField(\"_id\", StringType(), True), \\\n",
        "    StructField(\"asin\", StringType(), False), \\\n",
        "    StructField(\"similar\", StringType(), False)])\n",
        "\n",
        "schemaReviewData = StructType([\n",
        "    StructField(\"_id\", StringType(), True), \\\n",
        "    StructField(\"asin\", StringType(), False), \\\n",
        "    StructField(\"reviewerID\", StringType(), False), \\\n",
        "    StructField(\"reviewerName\", StringType(), False), \\\n",
        "    StructField(\"overall\", FloatType(), False), \\\n",
        "    StructField(\"verified\", StringType(), False)])\n"
      ]
    },
    {
      "cell_type": "code",
      "execution_count": null,
      "metadata": {
        "colab": {
          "base_uri": "https://localhost:8080/",
          "height": 221
        },
        "id": "hA2BoQDsNtQ7",
        "outputId": "be333755-1846-4a7c-b970-09167f50a653"
      },
      "outputs": [
        {
          "data": {
            "text/html": [
              "\n",
              "            <div>\n",
              "                <p><b>SparkSession - in-memory</b></p>\n",
              "                \n",
              "        <div>\n",
              "            <p><b>SparkContext</b></p>\n",
              "\n",
              "            <p><a href=\"http://d2ede84352dc:4040\">Spark UI</a></p>\n",
              "\n",
              "            <dl>\n",
              "              <dt>Version</dt>\n",
              "                <dd><code>v3.3.1</code></dd>\n",
              "              <dt>Master</dt>\n",
              "                <dd><code>local[*]</code></dd>\n",
              "              <dt>AppName</dt>\n",
              "                <dd><code>pyspark-shell</code></dd>\n",
              "            </dl>\n",
              "        </div>\n",
              "        \n",
              "            </div>\n",
              "        "
            ],
            "text/plain": [
              "<pyspark.sql.session.SparkSession at 0x7f9363599d90>"
            ]
          },
          "execution_count": 6,
          "metadata": {},
          "output_type": "execute_result"
        }
      ],
      "source": [
        "from pyspark.context import SparkContext\n",
        "from pyspark.sql.session import SparkSession\n",
        "sc = SparkContext.getOrCreate();\n",
        "spark = SparkSession(sc)\n",
        "spark.conf.set(\"spark.sql.caseSensitive\", \"true\")\n",
        "spark"
      ]
    },
    {
      "cell_type": "code",
      "execution_count": null,
      "metadata": {
        "id": "C06oD3D2lr4M"
      },
      "outputs": [],
      "source": [
        "dfMetaData = spark.read.json(\"/content/metaVinylAndCD.txt\", schema=schemaMetaData)\n",
        "dfReviewData = spark.read.json(\"/content/VinylAndCD.txt\", schema=schemaReviewData)\n",
        "dfReviewData = dfReviewData.withColumn(\"verified\",dfReviewData[\"verified\"].cast(BooleanType()))"
      ]
    },
    {
      "cell_type": "code",
      "execution_count": null,
      "metadata": {
        "id": "QOApETtrOcdg"
      },
      "outputs": [],
      "source": [
        "#start the engine first\n",
        "\n",
        "# test your ES instance is running\n",
        "from elasticsearch import Elasticsearch\n",
        "\n",
        "es = Elasticsearch(\n",
        "    ['s-for-ds.es.us-central1.gcp.cloud.es.io'],\n",
        "    http_auth=('elastic', 'yRG2A89HY5IbVuBinEtu8F8x!'),\n",
        "    scheme=\"https\",\n",
        "    port=9243\n",
        ")"
      ]
    },
    {
      "cell_type": "code",
      "execution_count": null,
      "metadata": {
        "id": "qcwvVRyLPjrc"
      },
      "outputs": [],
      "source": [
        "# test block\n",
        "from google.colab import drive\n",
        "drive.mount('/content/drive')\n",
        "\n",
        "! python -m pip install pymongo==3.7.2\n",
        "\n",
        "import pymongo\n",
        "from pymongo import MongoClient\n",
        "\n",
        "# uri (uniform resource identifier) defines the connection parameters \n",
        "uri = \"<your string here>\"\n",
        "# start client to connect to MongoDB server \n",
        "client = MongoClient( uri )\n",
        "\n",
        "client.list_database_names()\n",
        "\n",
        "dfMetaData = spark.read.format(\"mongo\").option(\"uri\",\"mongodb://127.0.0.1/metaData.VinylAndCD\").load()\n",
        "dfReviewData = spark.read.format(\"mongo\").option(\"uri\",\"mongodb://127.0.0.1/metaData.VinylAndCD\").load()"
      ]
    },
    {
      "cell_type": "code",
      "execution_count": null,
      "metadata": {
        "id": "frrQsqDluKjP"
      },
      "outputs": [],
      "source": [
        "# Data Processing starts here:"
      ]
    },
    {
      "cell_type": "code",
      "execution_count": null,
      "metadata": {
        "colab": {
          "base_uri": "https://localhost:8080/"
        },
        "id": "rU1RHDzQOkiF",
        "outputId": "5c7284a3-0310-45b8-ab7d-3d181787be2e"
      },
      "outputs": [
        {
          "name": "stdout",
          "output_type": "stream",
          "text": [
            "+--------------------+----------+----------+\n",
            "|                 _id|      asin|   similar|\n",
            "+--------------------+----------+----------+\n",
            "|638cfdc61ca6f99a8...|0001393774|B0016CP2GS|\n",
            "|638cfdc61ca6f99a8...|0001393774|1423442733|\n",
            "|638cfdc61ca6f99a8...|0001393774|B00P826ZRM|\n",
            "|638cfdc61ca6f99a8...|0001393774|B000075A86|\n",
            "|638cfdc61ca6f99a8...|0001393774|0006920055|\n",
            "|638cfdc61ca6f99a8...|0001501348|6303646611|\n",
            "|638cfdc61ca6f99a8...|0001501348|B000008GO1|\n",
            "|638cfdc61ca6f99a8...|0001501348|6303908845|\n",
            "|638cfdc61ca6f99a8...|0001501348|B00000DUDE|\n",
            "|638cfdc61ca6f99a8...|0005072298|B00000DPLJ|\n",
            "|638cfdc61ca6f99a8...|0005072298|B00KYVHGR0|\n",
            "|638cfdc61ca6f99a8...|0005072298|B00BQH9RKA|\n",
            "|638cfdc61ca6f99a8...|0005072298|B00000DPLL|\n",
            "|638cfdc61ca6f99a8...|0005072298|B000008UPG|\n",
            "|638cfdc61ca6f99a8...|0005121515|B00000DPKH|\n",
            "|638cfdc61ca6f99a8...|0005121515|B0010WAC50|\n",
            "|638cfdc61ca6f99a8...|0005121515|B0002X7GAM|\n",
            "|638cfdc61ca6f99a8...|0005121515|B00FSZPM8C|\n",
            "|638cfdc61ca6f99a8...|0005121515|0005121450|\n",
            "|638cfdc61ca6f99a8...|0005164885|B001JQGVF2|\n",
            "+--------------------+----------+----------+\n",
            "only showing top 20 rows\n",
            "\n"
          ]
        }
      ],
      "source": [
        "dfMetaData.show()"
      ]
    },
    {
      "cell_type": "code",
      "execution_count": null,
      "metadata": {
        "colab": {
          "base_uri": "https://localhost:8080/"
        },
        "id": "tk-w8Z3KmS7y",
        "outputId": "94b1f453-9a81-426d-82fb-56d69d7e3c80"
      },
      "outputs": [
        {
          "name": "stdout",
          "output_type": "stream",
          "text": [
            "+--------------------+----------+--------------+----------------+-------+--------+\n",
            "|                 _id|      asin|    reviewerID|    reviewerName|overall|verified|\n",
            "+--------------------+----------+--------------+----------------+-------+--------+\n",
            "|638cfe401ca6f99a8...|0001393774|A171I27YBM4FL6|       ElineMann|    5.0|    true|\n",
            "|638cfe401ca6f99a8...|0001393774|A1H1DL4K669VQ9|  JudithPaladino|    5.0|    true|\n",
            "|638cfe401ca6f99a8...|0001393774|A23WIHT5886G36| MarkLeszczynski|    5.0|    true|\n",
            "|638cfe401ca6f99a8...|0001393774|A3SZNOJP8OL26X|            mimi|    5.0|    true|\n",
            "|638cfe401ca6f99a8...|0001393774|A3V5XBBT7OZG5G|          gflady|    5.0|    true|\n",
            "|638cfe401ca6f99a8...|0001393774|A3SNL7UJY7GWBI| LadyLeatherneck|    5.0|    true|\n",
            "|638cfe401ca6f99a8...|0001393774|A3478QRKQDOPQ2|           jacki|    5.0|    true|\n",
            "|638cfe401ca6f99a8...|0001393774|A3CP0CNKNFCYBZ|VirginiaCosgrove|    4.0|    true|\n",
            "|638cfe401ca6f99a8...|0001393774|A3OIIDZ137NJOU|  PamelaT.Martin|    5.0|    true|\n",
            "|638cfe401ca6f99a8...|0001393774|A3GVAG32NMMYT4|  AmazonCustomer|    4.0|    true|\n",
            "|638cfe401ca6f99a8...|0001393774|A3232ASBJ7KC62| StephenT.DeWitt|    5.0|    true|\n",
            "|638cfe401ca6f99a8...|0001393774|A1YFNAB3OI9PVF|      MelodyBish|    5.0|    true|\n",
            "|638cfe401ca6f99a8...|0001393774|A2DHT9Y9D27CEU|  JosephR.Jensen|    5.0|    true|\n",
            "|638cfe401ca6f99a8...|0001393774|A2W6V65OFOZ12M|    amharris1962|    5.0|    true|\n",
            "|638cfe401ca6f99a8...|0001393774|A1HQAUBL5BDZH9|            Barb|    5.0|    true|\n",
            "|638cfe401ca6f99a8...|0001393774|A23M5VTSN2C3H1|         Caliope|    5.0|    true|\n",
            "|638cfe401ca6f99a8...|0001393774|A1DOF5GHOWGMW6|               p|    5.0|    true|\n",
            "|638cfe401ca6f99a8...|0001393774|A1TTHKFXLZ28ON|    henryj.viola|    5.0|    true|\n",
            "|638cfe401ca6f99a8...|0001393774|A1CQY90X082Z0W|   NancyRobinson|    5.0|    true|\n",
            "|638cfe401ca6f99a8...|0001393774| AYU1GV7AIQ5YY|        BillyPat|    5.0|    true|\n",
            "+--------------------+----------+--------------+----------------+-------+--------+\n",
            "only showing top 20 rows\n",
            "\n"
          ]
        }
      ],
      "source": [
        "dfReviewData.show()"
      ]
    },
    {
      "cell_type": "code",
      "execution_count": null,
      "metadata": {
        "colab": {
          "base_uri": "https://localhost:8080/"
        },
        "id": "vPRu11YeUaIL",
        "outputId": "34824b31-b059-4c3f-99e6-a24f19d9924a"
      },
      "outputs": [
        {
          "name": "stdout",
          "output_type": "stream",
          "text": [
            "root\n",
            " |-- asin: string (nullable = true)\n",
            " |-- avg(overall): double (nullable = true)\n",
            "\n",
            "+----------+------------------+\n",
            "|      asin|      avg(overall)|\n",
            "+----------+------------------+\n",
            "|6305214328|3.6666666666666665|\n",
            "|B00000084B|               2.5|\n",
            "|B000000DC7|               5.0|\n",
            "|B000000D3O| 4.111111111111111|\n",
            "|B000000EIH|               5.0|\n",
            "|B000000HML|               5.0|\n",
            "|B000000OSL| 4.566666666666666|\n",
            "|B000000WI4|               4.0|\n",
            "|B000000Y4Z|               4.8|\n",
            "|B000000YLS| 4.916666666666667|\n",
            "|B00000106O| 4.882352941176471|\n",
            "|B0000015K2| 4.333333333333333|\n",
            "|B000000148| 4.764705882352941|\n",
            "|B000000DGC|               5.0|\n",
            "|B000000P1I| 4.714285714285714|\n",
            "|B000000W56|3.9130434782608696|\n",
            "|B0000011P7| 4.166666666666667|\n",
            "|B00000179Z|               5.0|\n",
            "|5559550833| 4.786885245901639|\n",
            "|6304749007| 4.416666666666667|\n",
            "+----------+------------------+\n",
            "only showing top 20 rows\n",
            "\n"
          ]
        }
      ],
      "source": [
        "# Ratings for \n",
        "ratingsDF = dfReviewData.groupBy(\"asin\").mean()\n",
        "ratingsDF.printSchema()\n",
        "ratingsDF.show()"
      ]
    },
    {
      "cell_type": "code",
      "execution_count": null,
      "metadata": {
        "colab": {
          "base_uri": "https://localhost:8080/"
        },
        "id": "AwUI2YVpUd-3",
        "outputId": "789bdb79-ea77-40c1-e719-de01acd655b9"
      },
      "outputs": [
        {
          "name": "stdout",
          "output_type": "stream",
          "text": [
            "Total Unique Ratings: => 2897\n"
          ]
        }
      ],
      "source": [
        "print(\"Total Unique Ratings: =>\", ratingsDF.count())"
      ]
    },
    {
      "cell_type": "code",
      "execution_count": null,
      "metadata": {
        "colab": {
          "base_uri": "https://localhost:8080/"
        },
        "id": "mAEUy2MDWn9p",
        "outputId": "621662cc-5c14-4fe3-c695-3ebac7926586"
      },
      "outputs": [
        {
          "name": "stdout",
          "output_type": "stream",
          "text": [
            "+----------+----------+--------------+--------------------+-------+--------+\n",
            "|      asin|   similar|    reviewerID|        reviewerName|overall|verified|\n",
            "+----------+----------+--------------+--------------------+-------+--------+\n",
            "|0001393774|B0016CP2GS| AEKGGV851HY3K|          AvidReader|    5.0|   false|\n",
            "|0001393774|B0016CP2GS|A1WX42M589VAMQ|                 Mir|    5.0|   false|\n",
            "|0001393774|B0016CP2GS|A3IWBNNKB5Y1ZY|         Serendipity|    5.0|    true|\n",
            "|0001393774|B0016CP2GS|A1JE8B5PU9ISMC|       MichelleToste|    5.0|    true|\n",
            "|0001393774|B0016CP2GS| AWA4RHNCRLQNS|           S.Johnson|    5.0|   false|\n",
            "|0001393774|B0016CP2GS|A12R54MKO17TW0|             J.Bynum|    5.0|   false|\n",
            "|0001393774|B0016CP2GS|A2CNQ98AQMTF1T|       ShaunaLadnier|    5.0|    true|\n",
            "|0001393774|B0016CP2GS|A1BA3VR9EKXI87|           M.Mikeska|    5.0|    true|\n",
            "|0001393774|B0016CP2GS| AHG1GTQZUYNJN| CAROLYNECHAMBERLAIN|    5.0|    true|\n",
            "|0001393774|B0016CP2GS|A1C7NPVPFF4OO8|        LisaL.Powell|    5.0|    true|\n",
            "|0001393774|B0016CP2GS|A293MJV7OBALZ8|   SHERRYLOUSTEPHENS|    5.0|    true|\n",
            "|0001393774|B0016CP2GS| A9DMTMLFR9CO5|     AlbertLuguterah|    5.0|    true|\n",
            "|0001393774|B0016CP2GS|A22X72C51HQ7AS|           MarthaOry|    5.0|    true|\n",
            "|0001393774|B0016CP2GS|A2YAPAG1IPNK7K|        dianetousley|    5.0|    true|\n",
            "|0001393774|B0016CP2GS|A2TFO7NREP2B2D|cindyterpening_smith|    5.0|    true|\n",
            "|0001393774|B0016CP2GS|A2MRQG8RN5JI7R|              janice|    5.0|    true|\n",
            "|0001393774|B0016CP2GS| AJVC0VFJKOYWU|       ElainePersing|    5.0|   false|\n",
            "|0001393774|B0016CP2GS|A2ZRMWGX2T4DUL|       SusanDetering|    5.0|    true|\n",
            "|0001393774|B0016CP2GS| AYU1GV7AIQ5YY|            BillyPat|    5.0|    true|\n",
            "|0001393774|B0016CP2GS|A1CQY90X082Z0W|       NancyRobinson|    5.0|    true|\n",
            "+----------+----------+--------------+--------------------+-------+--------+\n",
            "only showing top 20 rows\n",
            "\n",
            "404838\n"
          ]
        }
      ],
      "source": [
        "# merging tables to access values\n",
        "from pyspark.sql.functions import *\n",
        "\n",
        "dup_cols = [\"_id\", \"asin\"]\n",
        "mergedTable = dfMetaData.join(dfReviewData, ['asin']).where(dfMetaData.asin == dfReviewData.asin).drop(\"_id\")\n",
        "mergedTable.show()\n",
        "print(mergedTable.count())"
      ]
    },
    {
      "cell_type": "code",
      "execution_count": null,
      "metadata": {
        "colab": {
          "base_uri": "https://localhost:8080/"
        },
        "id": "3rG959U2nVAt",
        "outputId": "c39f381a-9a95-4aff-8d98-2203f425e24b"
      },
      "outputs": [
        {
          "name": "stdout",
          "output_type": "stream",
          "text": [
            "+----------+------------+\n",
            "|   similar|avg(overall)|\n",
            "+----------+------------+\n",
            "|B00000052G|         5.0|\n",
            "|B0000000ZW|        4.36|\n",
            "+----------+------------+\n",
            "\n"
          ]
        }
      ],
      "source": [
        "ratingsDF = ratingsDF.withColumnRenamed(\"asin\",\"prodID\")\n",
        "mergedTable2 = dfMetaData.join(ratingsDF, dfMetaData[\"similar\"] == ratingsDF[\"prodID\"], \"inner\")\n",
        "\n",
        "from pyspark.sql.window import Window\n",
        "from pyspark.sql.functions import col, row_number\n",
        "\n",
        "windowAsin = Window.partitionBy(\"asin\").orderBy(col(\"avg(overall)\").desc())\n",
        "\n",
        "fdf2 = mergedTable2.withColumn(\"row\",row_number().over(windowAsin))\n",
        "\n",
        "fdf2.select(\"similar\", \"avg(overall)\").where(fdf2[\"asin\"] == \"B00000050L\").show()"
      ]
    },
    {
      "cell_type": "code",
      "execution_count": null,
      "metadata": {
        "id": "7GQi-XM-QY73"
      },
      "outputs": [],
      "source": [
        "def getPrediction(product):\n",
        "    ans = fdf2.select(\"similar\", \"avg(overall)\").where(fdf2[\"asin\"] == product)\n",
        "    recommendationURLs = []\n",
        "\n",
        "    for row in ans.select(\"similar\").collect():\n",
        "        recommendationURLs.append(f\"https://www.amazon.com/gp/product/{row[0]}/r\")\n",
        "\n",
        "    return recommendationURLs"
      ]
    },
    {
      "cell_type": "code",
      "execution_count": null,
      "metadata": {
        "colab": {
          "base_uri": "https://localhost:8080/"
        },
        "id": "l9cN4W5pQZGV",
        "outputId": "02a9835c-bbc2-474c-f9af-907340b73985"
      },
      "outputs": [
        {
          "name": "stdout",
          "output_type": "stream",
          "text": [
            "B00000050L\n",
            "Time Taken is: 1.2554309368133545\n",
            "['https://www.amazon.com/gp/product/B00000052G/r', 'https://www.amazon.com/gp/product/B0000000ZW/r']\n"
          ]
        }
      ],
      "source": [
        "import webbrowser, time\n",
        "inputID = input()\n",
        "a = time.time()\n",
        "urls = [getPrediction(inputID)]\n",
        "b = time.time()\n",
        "print('Time Taken is: {}'.format(b-a))\n",
        "for url in urls:\n",
        "    print(url)"
      ]
    },
    {
      "cell_type": "code",
      "execution_count": null,
      "metadata": {
        "id": "fKRcYa0Z7h-J"
      },
      "outputs": [],
      "source": []
    }
  ],
  "metadata": {
    "colab": {
      "provenance": []
    },
    "kernelspec": {
      "display_name": "Python 3",
      "name": "python3"
    },
    "language_info": {
      "name": "python"
    }
  },
  "nbformat": 4,
  "nbformat_minor": 0
}
